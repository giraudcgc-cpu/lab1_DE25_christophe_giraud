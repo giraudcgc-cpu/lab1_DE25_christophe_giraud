{
 "cells": [
  {
   "cell_type": "code",
   "execution_count": 23,
   "id": "d0795809",
   "metadata": {},
   "outputs": [
    {
     "name": "stdout",
     "output_type": "stream",
     "text": [
      "The printed text:\n",
      " >seq1\n",
      "cGTAaccaataaaaaaacaagcttaacctaattc\n",
      ">seq2\n",
      "agcttagTTTGGatctggccgggg\n",
      ">seq3\n",
      "gcggatttactcCCCCCAAAAANNaggggagagcccagataaatggagtctgtgcgtccaca\n",
      ">seq4\n",
      "gcggatttactcaggggagagcccagGGataaatggagtctgtgcgtccaca\n",
      "\n",
      "\n",
      "\n",
      "['cGTAaccaataaaaaaacaagcttaacctaattc', 'agcttagTTTGGatctggccgggg', 'gcggatttactcCCCCCAAAAANNaggggagagcccagataaatggagtctgtgcgtccaca', 'gcggatttactcaggggagagcccagGGataaatggagtctgtgcgtccaca']\n",
      "\n",
      "['cgtaaccaataaaaaaacaagcttaacctaattc', 'agcttagtttggatctggccgggg', 'gcggatttactccccccaaaaannaggggagagcccagataaatggagtctgtgcgtccaca', 'gcggatttactcaggggagagcccagggataaatggagtctgtgcgtccaca']\n"
     ]
    }
   ],
   "source": [
    "# OPENING dna_raw.txt  \n",
    "with open(\"dna_raw.txt\", \"r\") as f:     \n",
    "    data = f.read()\n",
    "    print(f\"The printed text:\\n {data}\")\n",
    "print()\n",
    "\n",
    "# ISOLATING THE SEQUENCES / SPLITTING LINES \n",
    "lines = data.split('\\n')                \n",
    "print()\n",
    "print()\n",
    "\n",
    "# SPLIT LINES PER SEQUENCES          \n",
    "seq1_ = lines[1]\n",
    "seq2_ = lines[3]\n",
    "seq3_ = lines[5]\n",
    "seq4_ = lines[7]\n",
    "\n",
    "# .lower() all letters in the strings\n",
    "str_sequences = [seq1_, seq2_, seq3_,seq4_]\n",
    "print(str_sequences)\n",
    "print()\n",
    "lowercase_sequences = []\n",
    "for s in str_sequences:\n",
    "    lowercase_sequences.append(s.lower())\n",
    "print(lowercase_sequences)\n",
    "\n",
    "\n"
   ]
  }
 ],
 "metadata": {
  "kernelspec": {
   "display_name": "Python 3",
   "language": "python",
   "name": "python3"
  },
  "language_info": {
   "codemirror_mode": {
    "name": "ipython",
    "version": 3
   },
   "file_extension": ".py",
   "mimetype": "text/x-python",
   "name": "python",
   "nbconvert_exporter": "python",
   "pygments_lexer": "ipython3",
   "version": "3.12.10"
  }
 },
 "nbformat": 4,
 "nbformat_minor": 5
}
