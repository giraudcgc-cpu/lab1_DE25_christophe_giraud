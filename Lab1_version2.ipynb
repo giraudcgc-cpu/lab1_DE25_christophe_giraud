{
 "cells": [
  {
   "cell_type": "code",
   "execution_count": null,
   "id": "d0795809",
   "metadata": {},
   "outputs": [
    {
     "name": "stdout",
     "output_type": "stream",
     "text": [
      "The printed text:\n",
      " >seq1\n",
      "cGTAaccaataaaaaaacaagcttaacctaattc\n",
      ">seq2\n",
      "agcttagTTTGGatctggccgggg\n",
      ">seq3\n",
      "gcggatttactcCCCCCAAAAANNaggggagagcccagataaatggagtctgtgcgtccaca\n",
      ">seq4\n",
      "gcggatttactcaggggagagcccagGGataaatggagtctgtgcgtccaca\n",
      "\n",
      "\n",
      "\n",
      "-------DICTIONARIES OF THE SEQUENCES-------\n",
      "seq4 = {'a': 17, 'c': 8, 'g': 2, 't': 7}\n",
      "seq4 = {'a': 3, 'c': 4, 'g': 10, 't': 7}\n",
      "seq4 = {'a': 18, 'c': 16, 'g': 16, 't': 10}\n",
      "seq4 = {'a': 13, 'c': 11, 'g': 18, 't': 10}\n",
      "\n",
      "\n",
      "----------BAR CHARTS PER SEQUENCE----------\n",
      "cgtaaccaataaaaaaacaagcttaacctaattc\n"
     ]
    },
    {
     "data": {
      "image/png": "[encoded data removed]",
      "text/plain": [
       "<Figure size 640x480 with 1 Axes>"
      ]
     },
     "metadata": {},
     "output_type": "display_data"
    }
   ],
   "source": [
    "# opening dna_raw.txt  \n",
    "with open(\"dna_raw.txt\", \"r\") as f:     \n",
    "    data = f.read()\n",
    "    print(f\"The printed text:\\n {data}\")\n",
    "print()\n",
    "\n",
    "data_low_letters = data.lower()         # converting all to small letters/no redundancy\n",
    "#print(data_low_letters)\n",
    "\n",
    "\n",
    "lines = data_low_letters.split(\"\\n\")    # Splitting lines, no white spaces, to use index below\n",
    "\n",
    "\n",
    "print()\n",
    "print()\n",
    " \n",
    "seq1_n = lines[0].lstrip(\">\")                       # spliting lines per name\n",
    "seq2_n = lines[2].lstrip(\">\") \n",
    "seq3_n = lines[4].lstrip(\">\") \n",
    "seq4_n  = lines[6].lstrip(\">\") \n",
    "#print(seq1_n)                          # to test it\n",
    "\n",
    "        \n",
    "seq1_letters = lines[1]                 # Spliting lines per sequence/letters\n",
    "# print(seq1_letters)                   # to test it\n",
    "seq2_letters = lines[3]\n",
    "seq3_letters = lines[5]\n",
    "seq4_letters = lines[7]\n",
    "\n",
    "all_sequences = {                           # dictionary to store and easier to use + no redundancy\n",
    "    seq1_n: seq1_letters,\n",
    "    seq2_n: seq2_letters,\n",
    "    seq3_n: seq3_letters,\n",
    "    seq4_n: seq4_letters\n",
    "}\n",
    "\n",
    "def count_letters(per_sequence):            # Counting letters, no redundancy with use of functionn \n",
    "    letter_counts = {\"a\": 0, \"c\": 0, \"g\": 0, \"t\": 0}   # Dict for valid letters only, excludes \"N\"\n",
    "    for letter in per_sequence:                                 \n",
    "        if letter in letter_counts:     \n",
    "            letter_counts[letter] += 1\n",
    "    return letter_counts\n",
    "\n",
    "print(\"-------DICTIONARIES OF THE SEQUENCES-------\")\n",
    "for seq_n, letters in all_sequences.items():   \n",
    "    result = count_letters(letters)\n",
    "    print(f\"{seq} = {result}\")\n",
    "\n",
    "print()\n",
    "print()\n",
    "print(\"----------BAR CHARTS PER SEQUENCE----------\")\n",
    "\n",
    "import matplotlib.pyplot as plt\n",
    "\n",
    "fig, ax = plt.subplots()\n",
    "\n",
    "frequency_seq1 = count_letters(seq1_letters) # use previous fonction to count letters in str seq1_letters\n",
    "#print(seq1_letters)                         # to check\n",
    "dna_letters_seq1 = list(frequency_seq1.keys())\n",
    "frequency_seq1 = list(frequency_seq1.values())\n",
    "\n",
    "ax.bar(dna_letters_seq1, frequency_seq1)\n",
    "plt.xlabel(\"DNA Letters\")\n",
    "ax.set_ylabel(\"Frequency\")\n",
    "ax.set_title(\"DNA Sequence 1\")\n",
    "plt.show()\n",
    "\n"
   ]
  }
 ],
 "metadata": {
  "kernelspec": {
   "display_name": "Python 3",
   "language": "python",
   "name": "python3"
  },
  "language_info": {
   "codemirror_mode": {
    "name": "ipython",
    "version": 3
   },
   "file_extension": ".py",
   "mimetype": "text/x-python",
   "name": "python",
   "nbconvert_exporter": "python",
   "pygments_lexer": "ipython3",
   "version": "3.12.10"
  }
 },
 "nbformat": 4,
 "nbformat_minor": 5
}
