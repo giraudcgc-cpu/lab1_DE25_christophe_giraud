{
 "cells": [
  {
   "cell_type": "code",
   "execution_count": null,
   "id": "d0795809",
   "metadata": {},
   "outputs": [
    {
     "name": "stdout",
     "output_type": "stream",
     "text": [
      "The printed text:\n",
      " >seq1\n",
      "cGTAaccaataaaaaaacaagcttaacctaattc\n",
      ">seq2\n",
      "agcttagTTTGGatctggccgggg\n",
      ">seq3\n",
      "gcggatttactcCCCCCAAAAANNaggggagagcccagataaatggagtctgtgcgtccaca\n",
      ">seq4\n",
      "gcggatttactcaggggagagcccagGGataaatggagtctgtgcgtccaca\n",
      "\n",
      ">seq1\n",
      "cgtaaccaataaaaaaacaagcttaacctaattc\n",
      ">seq2\n",
      "agcttagtttggatctggccgggg\n",
      ">seq3\n",
      "gcggatttactccccccaaaaannaggggagagcccagataaatggagtctgtgcgtccaca\n",
      ">seq4\n",
      "gcggatttactcaggggagagcccagggataaatggagtctgtgcgtccaca\n",
      "\n",
      "\n"
     ]
    }
   ],
   "source": [
    "# opening dna_raw.txt  \n",
    "with open(\"dna_raw.txt\", \"r\") as f:     \n",
    "    data = f.read()\n",
    "    print(f\"The printed text:\\n {data}\")\n",
    "print()\n",
    "\n",
    "data_low_letters = data.lower()         # converting all to small letters/no redundancy\n",
    "print(data_low_letters)\n",
    "\n",
    "lines = data_low_letters.split(\"\\n\")    # Splitting lines, no white spaces, to use index below   \n",
    "print()\n",
    "print()\n",
    " \n",
    "seq1_n = lines[0]                       # spliting lines per name\n",
    "seq2_n = lines[2]\n",
    "seq3_n = lines[4]\n",
    "seq4_n  = lines[6]\n",
    "# print(seq1_n)                         # to test it\n",
    "\n",
    "        \n",
    "seq1_letters = lines[1]                 # Spliting lines per sequence/letters\n",
    "# print(seq1_letters)                   # to test it\n",
    "seq2_letters = lines[3]\n",
    "seq3_letters = lines[5]\n",
    "seq4_letters = lines[7]\n",
    "\n",
    "sequences = {                           # dictionary to store and easier to use + no redundancy\n",
    "    seq1_n: seq1_letters,\n",
    "    seq2_n: seq2_letters,\n",
    "    seq3_n: seq3_letters,\n",
    "    seq4_n: seq4_letters\n",
    "}\n",
    "\n",
    "def count_letters(sequence):  #### restart here: letter count, dict{a:0..}, for...\n"
   ]
  }
 ],
 "metadata": {
  "kernelspec": {
   "display_name": "Python 3",
   "language": "python",
   "name": "python3"
  },
  "language_info": {
   "codemirror_mode": {
    "name": "ipython",
    "version": 3
   },
   "file_extension": ".py",
   "mimetype": "text/x-python",
   "name": "python",
   "nbconvert_exporter": "python",
   "pygments_lexer": "ipython3",
   "version": "3.12.10"
  }
 },
 "nbformat": 4,
 "nbformat_minor": 5
}
