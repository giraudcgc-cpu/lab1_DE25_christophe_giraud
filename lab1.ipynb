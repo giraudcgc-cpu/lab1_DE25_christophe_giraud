{
 "cells": [
  {
   "cell_type": "markdown",
   "id": "438a2f3a",
   "metadata": {},
   "source": [
    "Test Lab1"
   ]
  },
  {
   "cell_type": "code",
   "execution_count": null,
   "id": "c7af4478",
   "metadata": {},
   "outputs": [],
   "source": []
  }
 ],
 "metadata": {
  "kernelspec": {
   "display_name": "Python 3",
   "language": "python",
   "name": "python3"
  },
  "language_info": {
   "name": "python",
   "version": "3.12.10"
  }
 },
 "nbformat": 4,
 "nbformat_minor": 5
}
