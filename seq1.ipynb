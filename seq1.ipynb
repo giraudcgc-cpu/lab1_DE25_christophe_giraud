{
 "cells": [
  {
   "cell_type": "markdown",
   "id": "4ccd6367",
   "metadata": {},
   "source": [
    "# Welcome to Lab1 \n",
    "\n",
    "## Task 1"
   ]
  },
  {
   "cell_type": "code",
   "execution_count": 54,
   "metadata": {},
   "outputs": [
    {
     "name": "stdout",
     "output_type": "stream",
     "text": [
      ">seq1\n",
      "cGTAaccaataaaaaaacaagcttaacctaattc\n",
      ">seq2\n",
      "agcttagTTTGGatctggccgggg\n",
      ">seq3\n",
      "gcggatttactcCCCCCAAAAANNaggggagagcccagataaatggagtctgtgcgtccaca\n",
      ">seq4\n",
      "gcggatttactcaggggagagcccagGGataaatggagtctgtgcgtccaca\n",
      "\n",
      "<class 'str'>\n",
      "\n",
      ">seq1\n",
      "cGTAaccaataaaaaaacaagcttaacctaattc\n",
      "\n",
      ">seq1\n",
      "cGTAaccaataaaaaaacaagcttaacctaattc\n",
      ">seq2\n",
      "agcttagTTTGGatctggccgggg\n",
      ">seq3\n",
      "gcggatttactcCCCCCAAAAANNaggggagagcccagataaatggagtctgtgcgtccaca\n",
      ">seq4\n",
      "gcggatttactcaggggagagcccagGGataaatggagtctgtgcgtccaca\n",
      "\n"
     ]
    },
    {
     "data": {
      "text/plain": [
       "'cGTAaccaataaaaaaacaagcttaacctaattc'"
      ]
     },
     "execution_count": 54,
     "metadata": {},
     "output_type": "execute_result"
    }
   ],
   "source": [
    "# Opening dna_raw.txt with Python, using the with statement method\n",
    "\n",
    "with open(\"dna_raw.txt\", \"r\") as f:\n",
    "    data = f.read()\n",
    "    print(data)\n",
    "\n",
    "\n",
    "# confirming the variable's type to think about how to extract the data.\n",
    "print()\n",
    "print(type(data))\n",
    "print()\n",
    "\n",
    "# First I checked indexes to isolate seq1 letters as the content is short\n",
    "print(data[0:5])\n",
    "print(data [6:40])\n",
    "print()\n",
    "# I try another way by splitting lines\n",
    "lines = data.split('\\n')\n",
    "print(data)\n",
    "print()\n",
    "\n",
    "# Now that the lines are splitted, with index, I create a variable for each line\n",
    "seq1_ = lines[1]\n",
    "seq2_ = lines[3]\n",
    "seq3_ = lines[5]\n",
    "seq4_ = lines[7]\n",
    "\n",
    "seq1_\n",
    "# Now I create a dictionary for the letters in seq_1 \n",
    "\n",
    "   \n",
    "\n",
    "\n",
    "\n",
    "\n",
    "\n",
    "\n",
    "\n",
    "\n",
    "\n"
   ]
  }
 ],
 "metadata": {
  "kernelspec": {
   "display_name": "Python 3",
   "language": "python",
   "name": "python3"
  },
  "language_info": {
   "codemirror_mode": {
    "name": "ipython",
    "version": 3
   },
   "file_extension": ".py",
   "mimetype": "text/x-python",
   "name": "python",
   "nbconvert_exporter": "python",
   "pygments_lexer": "ipython3",
   "version": "3.12.10"
  }
 },
 "nbformat": 4,
 "nbformat_minor": 5
}
