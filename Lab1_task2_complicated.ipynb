{
 "cells": [
  {
   "cell_type": "code",
   "execution_count": null,
   "id": "10a3cfbb",
   "metadata": {},
   "outputs": [
    {
     "name": "stdout",
     "output_type": "stream",
     "text": [
      "The printed text:\n",
      " >seq1\n",
      "cGTAaccaataaaaaaacaagcttaacctaattc\n",
      ">seq2\n",
      "agcttagTTTGGatctggccgggg\n",
      ">seq3\n",
      "gcggatttactcCCCCCAAAAANNaggggagagcccagataaatggagtctgtgcgtccaca\n",
      "gaattcgcacca\n",
      "AATAAAACCTCACCCAT\n",
      "agagcccagaatttactcCCC\n",
      ">seq4\n",
      "gcggatttactcaggggagagcccagGGataaatggagtctgtgcgtccaca\n",
      "gaattcgcacca\n"
     ]
    }
   ],
   "source": [
    "import re\n",
    "\n",
    "with open(\"dna_raw_complicated.txt\", \"r\") as f:     \n",
    "    data = f.read()\n",
    "    print(f\"The printed text:\\n {data}\")\n",
    "\n",
    "data_low_letters = data.lower()\n",
    "lines = data_low_letters.split(\"\\n\")\n",
    "\n",
    "sequence_name = []\n",
    "letters = []\n",
    "\n",
    "\n",
    "\n",
    "#for sequences in data:\n",
    "   # sequences = re.sub(\" +\", \"\", sequences)\n",
    "    \n",
    "\n",
    "#sequence_cleaned = data_low_letters.re.sub(\" +\",\"\", data_low_letters)\n",
    "#find_sequences = re.findall(r\">seq\\d+\", data)\n"
   ]
  }
 ],
 "metadata": {
  "kernelspec": {
   "display_name": "Python 3",
   "language": "python",
   "name": "python3"
  },
  "language_info": {
   "codemirror_mode": {
    "name": "ipython",
    "version": 3
   },
   "file_extension": ".py",
   "mimetype": "text/x-python",
   "name": "python",
   "nbconvert_exporter": "python",
   "pygments_lexer": "ipython3",
   "version": "3.12.10"
  }
 },
 "nbformat": 4,
 "nbformat_minor": 5
}
